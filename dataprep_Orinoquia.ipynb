{
 "cells": [
  {
   "cell_type": "code",
   "execution_count": null,
   "metadata": {},
   "outputs": [],
   "source": [
    "# https://github.com/microsoft/CameraTraps/blob/main/data_management/lila/create_lila_test_set.py\n",
    "# https://github.com/cindyweng/coco-to-yolo-by-category/blob/5fcd1ae51af89c1c678d903a4aff5d32cba25b0b/coco-to-yolo-by-category.py#L41"
   ]
  },
  {
   "cell_type": "code",
   "execution_count": 2,
   "metadata": {},
   "outputs": [],
   "source": [
    "import json\n",
    "import random\n",
    "import numpy as np\n",
    "import shutil\n",
    "import os\n",
    "import glob\n",
    "from pathlib import Path\n",
    "import matplotlib.pyplot as plt\n",
    "from operator import itemgetter \n",
    "from itertools import groupby\n",
    "from os.path import exists\n",
    "\n",
    "\n",
    "random.seed(42)"
   ]
  },
  {
   "cell_type": "code",
   "execution_count": 17,
   "metadata": {},
   "outputs": [],
   "source": [
    "basepath = 'I:\\orinoquia\\public\\\\' # refactor to match path naming\n",
    "metadata_path = 'I:\\orinoquia\\orinoquia_camera_traps_metadata\\orinoquia_camera_traps.json'\n",
    "train_path = './data/orinoquia/images/train/'\n",
    "val_path = './data/orinoquia/images/val/'\n",
    "test_path = './data/orinoquia/images/test/'\n",
    "label_path = './data/orinoquia/labels/'"
   ]
  },
  {
   "cell_type": "code",
   "execution_count": 18,
   "metadata": {},
   "outputs": [],
   "source": [
    "with open(metadata_path) as f:\n",
    "    d = json.load(f)"
   ]
  },
  {
   "cell_type": "code",
   "execution_count": 30,
   "metadata": {},
   "outputs": [
    {
     "name": "stdout",
     "output_type": "stream",
     "text": [
      "7441 images do not exist (images may overlap)\n"
     ]
    }
   ],
   "source": [
    "# Remove images not found\n",
    "ne = []\n",
    "i = 0\n",
    "for img in d['images']:\n",
    "    if not exists(basepath + img['file_name']):\n",
    "        ne.append(img)\n",
    "        i += 1\n",
    "print(\"{} images do not exist (counts may overlap)\".format(i))\n",
    "\n",
    "remove_missing_id = set([n.get('id') for n in ne])"
   ]
  },
  {
   "cell_type": "code",
   "execution_count": 33,
   "metadata": {},
   "outputs": [],
   "source": [
    "def gen_dataset(d, remove_missing_id, n_empty=1000, n_nempty=10000):\n",
    "    n_empty_images_per_dataset = n_empty\n",
    "    n_non_empty_images_per_dataset = n_nempty\n",
    "\n",
    "    category_id_to_name = {c['id']:c['name'] for c in d['categories']}\n",
    "    category_name_to_id = {c['name']:c['id'] for c in d['categories']}\n",
    "\n",
    "\n",
    "    human_category_id = category_name_to_id['human'] if 'human' in category_name_to_id.keys() else -1 # filter out humans\n",
    "\n",
    "\n",
    "    if 'empty' not in category_name_to_id:\n",
    "        print('Warning: no empty images available for {}'.format('dataset'))\n",
    "        empty_category_id = -1\n",
    "        empty_annotations = []\n",
    "        empty_annotations_to_download = []\n",
    "    else:\n",
    "        empty_category_id = category_name_to_id['empty']        \n",
    "        empty_annotations = [ann for ann in d['annotations'] if ann['category_id'] == empty_category_id and ann['image_id'] not in remove_missing_id]\n",
    "        empty_annotations_to_download = random.sample(empty_annotations, n_empty_images_per_dataset)        \n",
    "        \n",
    "    non_empty_annotations = [ann for ann in d['annotations'] if ann['category_id'] not in (empty_category_id, human_category_id) and ann['image_id'] not in remove_missing_id]\n",
    "\n",
    "    non_empty_annotations_to_download = random.sample(non_empty_annotations, n_non_empty_images_per_dataset)\n",
    "    annotations_to_download = empty_annotations_to_download + non_empty_annotations_to_download\n",
    "    image_ids_to_download = set([ann['image_id'] for ann in annotations_to_download])\n",
    "    assert len(image_ids_to_download) == len(set(image_ids_to_download))\n",
    "\n",
    "    images_to_download = []\n",
    "    for im in d['images']:\n",
    "        if im['id'] in image_ids_to_download:\n",
    "            images_to_download.append(im)\n",
    "    assert len(images_to_download) == len(image_ids_to_download)\n",
    "    \n",
    "    return images_to_download"
   ]
  },
  {
   "cell_type": "code",
   "execution_count": 34,
   "metadata": {},
   "outputs": [],
   "source": [
    "images_to_download = gen_dataset(d, remove_missing_id, 1000, 10000)\n",
    "train, validate, test = np.split(images_to_download, [int(.8*len(images_to_download)), int(.9*len(images_to_download))])"
   ]
  },
  {
   "cell_type": "code",
   "execution_count": 35,
   "metadata": {},
   "outputs": [],
   "source": [
    "trlabelpath, vlabelpath, telabelpath = label_path + \"train/\", label_path + \"val/\", label_path + 'test/'\n",
    "\n",
    "for p in (train_path, val_path, test_path, trlabelpath, vlabelpath, telabelpath):\n",
    "    files = glob.glob(p)\n",
    "    for f in glob.glob(p + '\\*', recursive=True):\n",
    "        if f.endswith('.jpg') or f.endswith('.txt'):\n",
    "            os.remove(f)\n",
    "\n",
    "for im in train: \n",
    "    newfile = shutil.copy2(basepath+im['file_name'], train_path)\n",
    "    newname = os.path.dirname(newfile) + \"/\" + im['file_name'].replace(\"/\", \"-\") # name should match label - multiple 001, 002 files...\n",
    "    os.rename(newfile, newname)\n",
    "for im in validate: \n",
    "    newfile = shutil.copy2(basepath+im['file_name'], val_path)\n",
    "    newname = os.path.dirname(newfile) + \"/\" + im['file_name'].replace(\"/\", \"-\") # name should match label - multiple 001, 002 files...\n",
    "    os.rename(newfile, newname)\n",
    "for im in test: \n",
    "        newfile = shutil.copy2(basepath+im['file_name'], test_path)\n",
    "        newname = os.path.dirname(newfile) + \"/\" + im['file_name'].replace(\"/\", \"-\") # name should match label - multiple 001, 002 files...\n",
    "        os.rename(newfile, newname)"
   ]
  },
  {
   "cell_type": "code",
   "execution_count": 39,
   "metadata": {},
   "outputs": [
    {
     "data": {
      "text/plain": [
       "[{'name': 'empty', 'id': 0, 'count': 20334},\n",
       " {'id': 1, 'name': 'human', 'count': 7441},\n",
       " {'id': 2, 'name': 'black_agouti', 'count': 14206},\n",
       " {'id': 3, 'name': 'collared_peccary', 'count': 24784},\n",
       " {'id': 4, 'name': 'spixs_guan', 'count': 1317},\n",
       " {'id': 5, 'name': 'rodent', 'count': 4135},\n",
       " {'id': 6, 'name': 'unknown_bird', 'count': 5766},\n",
       " {'id': 7, 'name': 'unknown', 'count': 1280},\n",
       " {'id': 8, 'name': 'giant_anteater', 'count': 807},\n",
       " {'id': 9, 'name': 'ornate_titi_monkey', 'count': 49},\n",
       " {'id': 10, 'name': 'lowland_tapir', 'count': 1562},\n",
       " {'id': 11, 'name': 'unknown_armadillo', 'count': 5732},\n",
       " {'id': 12, 'name': 'unknown_squirrel_monkey', 'count': 50},\n",
       " {'id': 13, 'name': 'puma', 'count': 131},\n",
       " {'id': 14, 'name': 'southern_tamandua', 'count': 1391},\n",
       " {'id': 15, 'name': 'cattle', 'count': 3580},\n",
       " {'id': 16, 'name': 'south_american_coati', 'count': 2895},\n",
       " {'id': 17, 'name': 'ants', 'count': 33},\n",
       " {'id': 18, 'name': 'amazonian_motmot', 'count': 268},\n",
       " {'id': 19, 'name': 'unknown_possum', 'count': 951},\n",
       " {'id': 20, 'name': 'tayra', 'count': 414},\n",
       " {'id': 21, 'name': 'spotted_paca', 'count': 5651},\n",
       " {'id': 22, 'name': 'margarita_island_capuchin', 'count': 207},\n",
       " {'id': 23, 'name': 'giant_armadillo', 'count': 167},\n",
       " {'id': 24, 'name': 'unknown_capuchin_monkey', 'count': 2},\n",
       " {'id': 25, 'name': 'unknown_reptile', 'count': 210},\n",
       " {'id': 26, 'name': 'crab-eating_fox', 'count': 98},\n",
       " {'id': 27, 'name': 'common_green_iguana', 'count': 22},\n",
       " {'id': 28, 'name': 'domestic_horse', 'count': 979},\n",
       " {'id': 29, 'name': 'domestic_dog', 'count': 19},\n",
       " {'id': 30, 'name': 'unknown_cervid', 'count': 900},\n",
       " {'id': 31, 'name': 'ocelot', 'count': 363},\n",
       " {'id': 32, 'name': 'white-tailed_deer', 'count': 408},\n",
       " {'id': 33, 'name': 'salvins_curassow', 'count': 1526},\n",
       " {'id': 34, 'name': 'northern_amazon_red_squirrel', 'count': 253},\n",
       " {'id': 35, 'name': 'jaguarundi', 'count': 12},\n",
       " {'id': 36, 'name': 'white-lipped_peccary', 'count': 3813},\n",
       " {'id': 37, 'name': 'unknown_howler_monkey', 'count': 6},\n",
       " {'id': 38, 'name': 'unknown_turtle', 'count': 106},\n",
       " {'id': 39, 'name': 'unknown_nightjar', 'count': 114},\n",
       " {'id': 40, 'name': 'unknown_peccary', 'count': 37},\n",
       " {'id': 41, 'name': 'red_brocket_deer', 'count': 134},\n",
       " {'id': 42, 'name': 'margay', 'count': 20},\n",
       " {'id': 43, 'name': 'insect', 'count': 6},\n",
       " {'id': 44, 'name': 'unknown_tayra', 'count': 1},\n",
       " {'id': 45, 'name': 'orinoco_agouti', 'count': 3},\n",
       " {'id': 46, 'name': 'jaguar', 'count': 3},\n",
       " {'id': 47, 'name': 'bush_dog', 'count': 22},\n",
       " {'id': 48, 'name': 'unknown_mammal', 'count': 11},\n",
       " {'id': 49, 'name': 'crestless_curassow', 'count': 3},\n",
       " {'id': 50, 'name': 'turkey_vulture', 'count': 4},\n",
       " {'id': 51, 'name': 'white-browed_guan', 'count': 4},\n",
       " {'id': 52, 'name': 'neotropical_otter', 'count': 6},\n",
       " {'id': 53, 'name': 'fasciated_tiger-heron', 'count': 6},\n",
       " {'id': 54, 'name': 'coiban_agouti', 'count': 1},\n",
       " {'id': 55, 'name': 'unknown_weasel', 'count': 2},\n",
       " {'id': 56, 'name': 'giant_otter', 'count': 1},\n",
       " {'id': 57, 'name': 'capybara', 'count': 21}]"
      ]
     },
     "execution_count": 39,
     "metadata": {},
     "output_type": "execute_result"
    }
   ],
   "source": [
    "d['categories']"
   ]
  },
  {
   "cell_type": "code",
   "execution_count": 42,
   "metadata": {},
   "outputs": [],
   "source": [
    "\n",
    "def truncate(n, decimals=0):\n",
    "    multiplier = 10 ** decimals\n",
    "    return int(n * multiplier) / multiplier\n",
    "\n",
    "\n",
    "def createLabelsSingle(imageList, basedir, labeldirname, metadata_full):\n",
    "    # For single objects only\n",
    "\n",
    "    ids = [i.get('id') for i in imageList]\n",
    "    # generate lookup for bbox and category id based on image id\n",
    "\n",
    "\n",
    "    print(\"!WARNING: hardcoded fix for islands dataset\")\n",
    "\n",
    "    lookup = {}\n",
    "    for meta in metadata_full[\"annotations\"]:\n",
    "        if meta[\"image_id\"] not in ids: continue\n",
    "\n",
    "        bb = [0, 0, 1919, 1079] #TODO this is hardcoded fix/default for the islands dataset \n",
    "\n",
    "        try:\n",
    "            bb = meta['bbox']\n",
    "        except KeyError:\n",
    "            if meta['category_id'] != 0:\n",
    "                raise KeyError('Keyerror on boundingbox but not an empty image! meta ID: {}'.format(meta))\n",
    "\n",
    "        lookup[meta['image_id']] = {\"bbox\": bb, \"category_id\": meta[\"category_id\"]}\n",
    "\n",
    "\n",
    "    for im in imageList:\n",
    "\n",
    "        ann = lookup.get(im['id'])\n",
    "\n",
    "        dw = 1. / im['width']\n",
    "        dh = 1. / im['height']\n",
    "        \n",
    "        \n",
    "        filename = im['file_name'].replace(\".jpg\", \".txt\").replace(\"/\", \"-\")\n",
    "        # print(Path(basedir).parent.__str__() + \"/labels/\" + labeldirname + filename, \"a\")\n",
    "        with open(Path(basedir).parent.parent.__str__() + \"/labels/\" + labeldirname + filename, \"a\") as myfile:\n",
    "            xmin = ann[\"bbox\"][0]\n",
    "            ymin = ann[\"bbox\"][1]\n",
    "            xmax = ann[\"bbox\"][2] + ann[\"bbox\"][0]\n",
    "            ymax = ann[\"bbox\"][3] + ann[\"bbox\"][1]\n",
    "            \n",
    "            x = (xmin + xmax)/2\n",
    "            y = (ymin + ymax)/2\n",
    "            \n",
    "            w = xmax - xmin\n",
    "            h = ymax-ymin\n",
    "            \n",
    "            x = x * dw\n",
    "            w = w * dw\n",
    "            y = y * dh\n",
    "            h = h * dh\n",
    "            \n",
    "            mystring = str(str(ann['category_id']) + \" \" + str(truncate(x, 7)) + \" \" + str(truncate(y, 7)) + \" \" + str(truncate(w, 7)) + \" \" + str(truncate(h, 7)))\n",
    "            myfile.write(mystring)\n",
    "            myfile.write(\"\\n\")\n",
    "\n",
    "        myfile.close()"
   ]
  },
  {
   "cell_type": "code",
   "execution_count": 43,
   "metadata": {},
   "outputs": [
    {
     "name": "stdout",
     "output_type": "stream",
     "text": [
      "!WARNING: hardcoded fix for islands dataset\n"
     ]
    },
    {
     "ename": "KeyError",
     "evalue": "\"Keyerror on boundingbox but not an empty image! meta ID: {'id': '3a6e598a-7160-11ec-b9b4-5cf3706028c2', 'image_id': 'A01_01100087.JPG', 'category_id': 2, 'sequence_level_annotation': False}\"",
     "output_type": "error",
     "traceback": [
      "\u001b[1;31m---------------------------------------------------------------------------\u001b[0m",
      "\u001b[1;31mKeyError\u001b[0m                                  Traceback (most recent call last)",
      "\u001b[1;32mc:\\Projects\\wild\\dataprep_Orinoquia.ipynb Cell 10'\u001b[0m in \u001b[0;36mcreateLabelsSingle\u001b[1;34m(imageList, basedir, labeldirname, metadata_full)\u001b[0m\n\u001b[0;32m     <a href='vscode-notebook-cell:/c%3A/Projects/wild/dataprep_Orinoquia.ipynb#ch0000008?line=20'>21</a>\u001b[0m \u001b[39mtry\u001b[39;00m:\n\u001b[1;32m---> <a href='vscode-notebook-cell:/c%3A/Projects/wild/dataprep_Orinoquia.ipynb#ch0000008?line=21'>22</a>\u001b[0m     bb \u001b[39m=\u001b[39m meta[\u001b[39m'\u001b[39;49m\u001b[39mbbox\u001b[39;49m\u001b[39m'\u001b[39;49m]\n\u001b[0;32m     <a href='vscode-notebook-cell:/c%3A/Projects/wild/dataprep_Orinoquia.ipynb#ch0000008?line=22'>23</a>\u001b[0m \u001b[39mexcept\u001b[39;00m \u001b[39mKeyError\u001b[39;00m:\n",
      "\u001b[1;31mKeyError\u001b[0m: 'bbox'",
      "\nDuring handling of the above exception, another exception occurred:\n",
      "\u001b[1;31mKeyError\u001b[0m                                  Traceback (most recent call last)",
      "\u001b[1;32mc:\\Projects\\wild\\dataprep_Orinoquia.ipynb Cell 11'\u001b[0m in \u001b[0;36m<cell line: 1>\u001b[1;34m()\u001b[0m\n\u001b[1;32m----> <a href='vscode-notebook-cell:/c%3A/Projects/wild/dataprep_Orinoquia.ipynb#ch0000009?line=0'>1</a>\u001b[0m createLabelsSingle(train, train_path, \u001b[39m'\u001b[39;49m\u001b[39mtrain/\u001b[39;49m\u001b[39m'\u001b[39;49m, d)\n\u001b[0;32m      <a href='vscode-notebook-cell:/c%3A/Projects/wild/dataprep_Orinoquia.ipynb#ch0000009?line=1'>2</a>\u001b[0m createLabelsSingle(validate, val_path, \u001b[39m'\u001b[39m\u001b[39mval/\u001b[39m\u001b[39m'\u001b[39m, d)\n\u001b[0;32m      <a href='vscode-notebook-cell:/c%3A/Projects/wild/dataprep_Orinoquia.ipynb#ch0000009?line=2'>3</a>\u001b[0m createLabelsSingle(test, test_path, \u001b[39m'\u001b[39m\u001b[39mtest/\u001b[39m\u001b[39m'\u001b[39m, d)\n",
      "\u001b[1;32mc:\\Projects\\wild\\dataprep_Orinoquia.ipynb Cell 10'\u001b[0m in \u001b[0;36mcreateLabelsSingle\u001b[1;34m(imageList, basedir, labeldirname, metadata_full)\u001b[0m\n\u001b[0;32m     <a href='vscode-notebook-cell:/c%3A/Projects/wild/dataprep_Orinoquia.ipynb#ch0000008?line=22'>23</a>\u001b[0m     \u001b[39mexcept\u001b[39;00m \u001b[39mKeyError\u001b[39;00m:\n\u001b[0;32m     <a href='vscode-notebook-cell:/c%3A/Projects/wild/dataprep_Orinoquia.ipynb#ch0000008?line=23'>24</a>\u001b[0m         \u001b[39mif\u001b[39;00m meta[\u001b[39m'\u001b[39m\u001b[39mcategory_id\u001b[39m\u001b[39m'\u001b[39m] \u001b[39m!=\u001b[39m \u001b[39m0\u001b[39m:\n\u001b[1;32m---> <a href='vscode-notebook-cell:/c%3A/Projects/wild/dataprep_Orinoquia.ipynb#ch0000008?line=24'>25</a>\u001b[0m             \u001b[39mraise\u001b[39;00m \u001b[39mKeyError\u001b[39;00m(\u001b[39m'\u001b[39m\u001b[39mKeyerror on boundingbox but not an empty image! meta ID: \u001b[39m\u001b[39m{}\u001b[39;00m\u001b[39m'\u001b[39m\u001b[39m.\u001b[39mformat(meta))\n\u001b[0;32m     <a href='vscode-notebook-cell:/c%3A/Projects/wild/dataprep_Orinoquia.ipynb#ch0000008?line=26'>27</a>\u001b[0m     lookup[meta[\u001b[39m'\u001b[39m\u001b[39mimage_id\u001b[39m\u001b[39m'\u001b[39m]] \u001b[39m=\u001b[39m {\u001b[39m\"\u001b[39m\u001b[39mbbox\u001b[39m\u001b[39m\"\u001b[39m: bb, \u001b[39m\"\u001b[39m\u001b[39mcategory_id\u001b[39m\u001b[39m\"\u001b[39m: meta[\u001b[39m\"\u001b[39m\u001b[39mcategory_id\u001b[39m\u001b[39m\"\u001b[39m]}\n\u001b[0;32m     <a href='vscode-notebook-cell:/c%3A/Projects/wild/dataprep_Orinoquia.ipynb#ch0000008?line=29'>30</a>\u001b[0m \u001b[39mfor\u001b[39;00m im \u001b[39min\u001b[39;00m imageList:\n",
      "\u001b[1;31mKeyError\u001b[0m: \"Keyerror on boundingbox but not an empty image! meta ID: {'id': '3a6e598a-7160-11ec-b9b4-5cf3706028c2', 'image_id': 'A01_01100087.JPG', 'category_id': 2, 'sequence_level_annotation': False}\""
     ]
    }
   ],
   "source": [
    "createLabelsSingle(train, train_path, 'train/', d)\n",
    "createLabelsSingle(validate, val_path, 'val/', d)\n",
    "createLabelsSingle(test, test_path, 'test/', d)\n",
    "\n",
    "# sanity check: \n",
    "assert((len(train)+ len(validate) + len(test)) == (len(glob.glob(label_path + \"/test/*\")) + len(glob.glob(label_path + \"/train/*\")) + len(glob.glob(label_path + \"/val/*\"))))\n",
    "\n",
    "# TODO perpaps add labels?\n",
    "with open(Path(label_path).parent.__str__() + '/description', 'w') as f:\n",
    "    f.write('train, val, test,\\n{}, {}, {}'.format(len(train), len(validate), len(test)))"
   ]
  },
  {
   "cell_type": "code",
   "execution_count": null,
   "metadata": {},
   "outputs": [],
   "source": [
    "# TODO auto generate YAML\n",
    "# import yaml\n",
    "\n",
    "# data = dict('path' : './data/islands',  # dataset root dir\n",
    "#     'train' : 'images/train2017',  # train images (relative to 'path') 128 images\n",
    "#     'val' : 'images/train2017',  # val images (relative to 'path') 128 images\n",
    "#     A = 'a',\n",
    "#     B = dict(\n",
    "#         C = 'c',\n",
    "#         D = 'd',\n",
    "#         E = 'e',\n",
    "#     )\n",
    "# )\n",
    "\n",
    "\n",
    "# with open('data.yml', 'w') as outfile:\n",
    "#     yaml.dump(data, outfile, default_flow_style=False)"
   ]
  }
 ],
 "metadata": {
  "interpreter": {
   "hash": "d488aad3bd47f31cc49211d239eea484ef57a3647b66c4c13e8e3612e9e7defd"
  },
  "kernelspec": {
   "display_name": "Python 3.10.1 ('wildsenv')",
   "language": "python",
   "name": "python3"
  },
  "language_info": {
   "codemirror_mode": {
    "name": "ipython",
    "version": 3
   },
   "file_extension": ".py",
   "mimetype": "text/x-python",
   "name": "python",
   "nbconvert_exporter": "python",
   "pygments_lexer": "ipython3",
   "version": "3.10.1"
  },
  "orig_nbformat": 4
 },
 "nbformat": 4,
 "nbformat_minor": 2
}
