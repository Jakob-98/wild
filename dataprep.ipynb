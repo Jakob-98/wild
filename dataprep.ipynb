{
 "cells": [
  {
   "cell_type": "code",
   "execution_count": null,
   "metadata": {},
   "outputs": [],
   "source": [
    "# https://github.com/microsoft/CameraTraps/blob/main/data_management/lila/create_lila_test_set.py\n",
    "# https://github.com/cindyweng/coco-to-yolo-by-category/blob/5fcd1ae51af89c1c678d903a4aff5d32cba25b0b/coco-to-yolo-by-category.py#L41"
   ]
  },
  {
   "cell_type": "code",
   "execution_count": null,
   "metadata": {},
   "outputs": [],
   "source": [
    "# auto Yaml generator\n",
    "\n",
    "# import yaml\n",
    "\n",
    "# data = {\n",
    "#     'path' : './data/islands',  # dataset root dir\n",
    "#     'train' : 'images/train2017',  # train images (relative to 'path') 128 images\n",
    "#     'val' : 'images/train2017',  # val images (relative to 'path') 128 images\n",
    "#     A = 'a',\n",
    "#     B = dict(\n",
    "#         C = 'c',\n",
    "#         D = 'd',\n",
    "#         E = 'e',\n",
    "#     )\n",
    "# }\n",
    "\n",
    "# with open('data.yml', 'w') as outfile:\n",
    "#     yaml.dump(data, outfile, default_flow_style=False)"
   ]
  },
  {
   "cell_type": "code",
   "execution_count": 32,
   "metadata": {},
   "outputs": [],
   "source": [
    "import json\n",
    "import random\n",
    "import numpy as np\n",
    "import shutil\n",
    "import os\n",
    "import glob\n",
    "from pathlib import Path\n",
    "import matplotlib.pyplot as plt\n",
    "from operator import itemgetter \n",
    "from itertools import groupby\n",
    "\n",
    "random.seed(42)"
   ]
  },
  {
   "cell_type": "code",
   "execution_count": 2,
   "metadata": {},
   "outputs": [],
   "source": [
    "with open('./data/islands/metadata.json') as f:\n",
    "    d = json.load(f)"
   ]
  },
  {
   "cell_type": "code",
   "execution_count": 3,
   "metadata": {},
   "outputs": [],
   "source": [
    "def gen_dataset(d, n_empty= 1000, n_nempty=1000):\n",
    "    n_empty_images_per_dataset = n_empty\n",
    "    n_non_empty_images_per_dataset = n_nempty\n",
    "\n",
    "    category_id_to_name = {c['id']:c['name'] for c in d['categories']}\n",
    "    category_name_to_id = {c['name']:c['id'] for c in d['categories']}\n",
    "\n",
    "\n",
    "    human_category_id = category_name_to_id['human'] if 'human' in category_name_to_id.keys() else -1 # filter out humans\n",
    "\n",
    "\n",
    "    if 'empty' not in category_name_to_id:\n",
    "        print('Warning: no empty images available for {}'.format('dataset'))\n",
    "        empty_category_id = -1\n",
    "        empty_annotations = []\n",
    "        empty_annotations_to_download = []\n",
    "    else:\n",
    "        empty_category_id = category_name_to_id['empty']        \n",
    "        empty_annotations = [ann for ann in d['annotations'] if ann['category_id'] == empty_category_id]\n",
    "        empty_annotations_to_download = random.sample(empty_annotations, n_empty_images_per_dataset)        \n",
    "        \n",
    "    non_empty_annotations = [ann for ann in d['annotations'] if ann['category_id'] not in (empty_category_id, human_category_id)]\n",
    "\n",
    "    non_empty_annotations_to_download = random.sample(non_empty_annotations, n_non_empty_images_per_dataset)\n",
    "    annotations_to_download = empty_annotations_to_download + non_empty_annotations_to_download\n",
    "    image_ids_to_download = set([ann['image_id'] for ann in annotations_to_download])\n",
    "    assert len(image_ids_to_download) == len(set(image_ids_to_download))\n",
    "\n",
    "    images_to_download = []\n",
    "    for im in d['images']:\n",
    "        if im['id'] in image_ids_to_download:\n",
    "            images_to_download.append(im)\n",
    "    assert len(images_to_download) == len(image_ids_to_download)\n",
    "    \n",
    "    return images_to_download"
   ]
  },
  {
   "cell_type": "code",
   "execution_count": 4,
   "metadata": {},
   "outputs": [],
   "source": [
    "images_to_download = gen_dataset(d, 100, 100)\n",
    "train, validate, test = np.split(images_to_download, [int(.6*len(images_to_download)), int(.8*len(images_to_download))])"
   ]
  },
  {
   "cell_type": "code",
   "execution_count": 31,
   "metadata": {},
   "outputs": [],
   "source": [
    "basepath = './data/islands/images/images/'\n",
    "train_path = './data/ultralytics/images/train/'\n",
    "val_path = './data/ultralytics/images/val/'\n",
    "test_path = './data/ultralytics/images/test/'\n",
    "\n",
    "for p in (train_path, val_path, test_path):\n",
    "    files = glob.glob(p)\n",
    "    for f in glob.glob(p + '\\*.jpg', recursive=True):\n",
    "        if f.endswith('.jpg'): # obsolete double check for personal sanity\"\n",
    "            os.remove(f)\n",
    "\n",
    "for im in train: \n",
    "    shutil.copy2(basepath+im['file_name'], train_path)\n",
    "for im in validate: \n",
    "    shutil.copy2(basepath+im['file_name'], val_path)\n",
    "for im in test: \n",
    "    shutil.copy2(basepath+im['file_name'], test_path)"
   ]
  },
  {
   "cell_type": "code",
   "execution_count": 55,
   "metadata": {},
   "outputs": [],
   "source": [
    "# metadata_full = d \n",
    "# for i in range(len(metadata_full['images'])):\n",
    "#     metadata_full['images'][i]['image_id'] = metadata_full['images'][i].pop('id')\n",
    "\n",
    "# my_id = itemgetter('image_id')\n",
    "# merged_dicts = []\n",
    "\n",
    "# for k, v in groupby(sorted((metadata_full['annotations'] + metadata_full['images']), key=my_id), key=my_id):\n",
    "#     merged_dicts.append({key:val for d in v for key, val in d.items()})"
   ]
  },
  {
   "cell_type": "code",
   "execution_count": 66,
   "metadata": {},
   "outputs": [],
   "source": [
    "anns = [d['annotations'] for id in ids if id]"
   ]
  },
  {
   "cell_type": "code",
   "execution_count": 85,
   "metadata": {},
   "outputs": [
    {
     "data": {
      "text/plain": [
       "'39a5096b-1476-447e-b8eb-afee0d90c838'"
      ]
     },
     "execution_count": 85,
     "metadata": {},
     "output_type": "execute_result"
    }
   ],
   "source": [
    "train[0]['id']"
   ]
  },
  {
   "cell_type": "code",
   "execution_count": 88,
   "metadata": {},
   "outputs": [],
   "source": [
    "a = lookup.get('39a5096b-1476-447e-b8eb-afee0d90c838')"
   ]
  },
  {
   "cell_type": "code",
   "execution_count": 90,
   "metadata": {},
   "outputs": [],
   "source": [
    "a"
   ]
  },
  {
   "cell_type": "code",
   "execution_count": 47,
   "metadata": {},
   "outputs": [],
   "source": [
    "ids = [i.get('id') for i in train]\n",
    "lookup = {\n",
    "    m[\"image_id\"]: {\"bbox\": m[\"bbox\"], \"category_id\": m[\"category_id\"]}\n",
    "    for m in d[\"annotations\"]\n",
    "    if m[\"image_id\"] in ids\n",
    "}"
   ]
  },
  {
   "cell_type": "code",
   "execution_count": 48,
   "metadata": {},
   "outputs": [
    {
     "data": {
      "text/plain": [
       "{'bbox': [0, 0, 1919, 1079], 'category_id': 0}"
      ]
     },
     "execution_count": 48,
     "metadata": {},
     "output_type": "execute_result"
    }
   ],
   "source": [
    "lookup.get(train[0].get('id'))"
   ]
  },
  {
   "cell_type": "code",
   "execution_count": null,
   "metadata": {},
   "outputs": [],
   "source": []
  },
  {
   "cell_type": "code",
   "execution_count": 43,
   "metadata": {},
   "outputs": [
    {
     "data": {
      "text/plain": [
       "{'id': '6910ebc2-95db-46d4-a384-962859b27ac6',\n",
       " 'file_name': 'loc-h500ee07133376/003/197.jpg',\n",
       " 'seq_id': '5daed48f-54d8-481e-9f33-47e279fada36',\n",
       " 'seq_num_frames': 13,\n",
       " 'frame_num': 4,\n",
       " 'original_relative_path': '2011_09_Set/Station%201/2011/2011-11-02/IMG_3195.JPG',\n",
       " 'location': 'h500ee07133376',\n",
       " 'temperature': '28 c',\n",
       " 'width': 1920,\n",
       " 'height': 1080}"
      ]
     },
     "execution_count": 43,
     "metadata": {},
     "output_type": "execute_result"
    }
   ],
   "source": [
    "train[0]"
   ]
  },
  {
   "cell_type": "code",
   "execution_count": 44,
   "metadata": {},
   "outputs": [
    {
     "data": {
      "text/plain": [
       "{'id': '16e360cc-4a53-11eb-b9b3-000d3a74c7de',\n",
       " 'image_id': 'dd8b68e9-360b-429e-a43b-892c2e036455',\n",
       " 'category_id': 0,\n",
       " 'sequence_level_annotation': False,\n",
       " 'bbox': [0, 0, 1919, 1079]}"
      ]
     },
     "execution_count": 44,
     "metadata": {},
     "output_type": "execute_result"
    }
   ],
   "source": [
    "d['annotations'][0]"
   ]
  },
  {
   "cell_type": "code",
   "execution_count": 53,
   "metadata": {},
   "outputs": [],
   "source": [
    "\n",
    "def truncate(n, decimals=0):\n",
    "    multiplier = 10 ** decimals\n",
    "    return int(n * multiplier) / multiplier\n",
    "\n",
    "\n",
    "def createLabelsSingle(imageList, basedir, metadata_full):\n",
    "    # For single objects only\n",
    "\n",
    "    ids = [i.get('id') for i in imageList]\n",
    "    # generate lookup for bbox and category id based on image id\n",
    "    lookup = {\n",
    "        m[\"image_id\"]: {\"bbox\": m[\"bbox\"], \"category_id\": m[\"category_id\"]}\n",
    "        for m in d[\"annotations\"]\n",
    "        if m[\"image_id\"] in ids\n",
    "    }\n",
    "\n",
    "    for im in imageList:\n",
    "\n",
    "        ann = lookup.get(im['id'])\n",
    "\n",
    "        dw = 1. / im['width']\n",
    "        dh = 1. / im['height']\n",
    "        \n",
    "        \n",
    "        filename = im['file_name'].replace(\".jpg\", \".txt\")\n",
    "        print(filename, ann)\n",
    "\n",
    "        with open(basedir + \"../labels/\" + filename, \"a\") as myfile:\n",
    "            xmin = ann[\"bbox\"][0]\n",
    "            ymin = ann[\"bbox\"][1]\n",
    "            xmax = ann[\"bbox\"][2] + ann[\"bbox\"][0]\n",
    "            ymax = ann[\"bbox\"][3] + ann[\"bbox\"][1]\n",
    "            \n",
    "            x = (xmin + xmax)/2\n",
    "            y = (ymin + ymax)/2\n",
    "            \n",
    "            w = xmax - xmin\n",
    "            h = ymax-ymin\n",
    "            \n",
    "            x = x * dw\n",
    "            w = w * dw\n",
    "            y = y * dh\n",
    "            h = h * dh\n",
    "            \n",
    "            mystring = str(ann['category_id'] + str(truncate(x, 7)) + \" \" + str(truncate(y, 7)) + \" \" + str(truncate(w, 7)) + \" \" + str(truncate(h, 7)))\n",
    "            myfile.write(myst\n",
    "            ring)\n",
    "            myfile.write(\"\\n\")\n",
    "\n",
    "        myfile.close()"
   ]
  },
  {
   "cell_type": "code",
   "execution_count": 54,
   "metadata": {},
   "outputs": [
    {
     "name": "stdout",
     "output_type": "stream",
     "text": [
      "loc-h500ee07133376/003/197.txt {'bbox': [0, 0, 1919, 1079], 'category_id': 0}\n"
     ]
    },
    {
     "ename": "FileNotFoundError",
     "evalue": "[Errno 2] No such file or directory: './data/ultralytics/images/train/../labels/loc-h500ee07133376/003/197.txt'",
     "output_type": "error",
     "traceback": [
      "\u001b[1;31m---------------------------------------------------------------------------\u001b[0m",
      "\u001b[1;31mFileNotFoundError\u001b[0m                         Traceback (most recent call last)",
      "\u001b[1;32mc:\\Projects\\wild\\dataprep.ipynb Cell 19'\u001b[0m in \u001b[0;36m<cell line: 1>\u001b[1;34m()\u001b[0m\n\u001b[1;32m----> <a href='vscode-notebook-cell:/c%3A/Projects/wild/dataprep.ipynb#ch0000020?line=0'>1</a>\u001b[0m createLabelsSingle(train, train_path, d)\n",
      "\u001b[1;32mc:\\Projects\\wild\\dataprep.ipynb Cell 18'\u001b[0m in \u001b[0;36mcreateLabelsSingle\u001b[1;34m(imageList, basedir, metadata_full)\u001b[0m\n\u001b[0;32m     <a href='vscode-notebook-cell:/c%3A/Projects/wild/dataprep.ipynb#ch0000013?line=24'>25</a>\u001b[0m filename \u001b[39m=\u001b[39m im[\u001b[39m'\u001b[39m\u001b[39mfile_name\u001b[39m\u001b[39m'\u001b[39m]\u001b[39m.\u001b[39mreplace(\u001b[39m\"\u001b[39m\u001b[39m.jpg\u001b[39m\u001b[39m\"\u001b[39m, \u001b[39m\"\u001b[39m\u001b[39m.txt\u001b[39m\u001b[39m\"\u001b[39m)\n\u001b[0;32m     <a href='vscode-notebook-cell:/c%3A/Projects/wild/dataprep.ipynb#ch0000013?line=25'>26</a>\u001b[0m \u001b[39mprint\u001b[39m(filename, ann)\n\u001b[1;32m---> <a href='vscode-notebook-cell:/c%3A/Projects/wild/dataprep.ipynb#ch0000013?line=27'>28</a>\u001b[0m \u001b[39mwith\u001b[39;00m \u001b[39mopen\u001b[39;49m(basedir \u001b[39m+\u001b[39;49m \u001b[39m\"\u001b[39;49m\u001b[39m../labels/\u001b[39;49m\u001b[39m\"\u001b[39;49m \u001b[39m+\u001b[39;49m filename, \u001b[39m\"\u001b[39;49m\u001b[39ma\u001b[39;49m\u001b[39m\"\u001b[39;49m) \u001b[39mas\u001b[39;00m myfile:\n\u001b[0;32m     <a href='vscode-notebook-cell:/c%3A/Projects/wild/dataprep.ipynb#ch0000013?line=28'>29</a>\u001b[0m     xmin \u001b[39m=\u001b[39m ann[\u001b[39m\"\u001b[39m\u001b[39mbbox\u001b[39m\u001b[39m\"\u001b[39m][\u001b[39m0\u001b[39m]\n\u001b[0;32m     <a href='vscode-notebook-cell:/c%3A/Projects/wild/dataprep.ipynb#ch0000013?line=29'>30</a>\u001b[0m     ymin \u001b[39m=\u001b[39m ann[\u001b[39m\"\u001b[39m\u001b[39mbbox\u001b[39m\u001b[39m\"\u001b[39m][\u001b[39m1\u001b[39m]\n",
      "\u001b[1;31mFileNotFoundError\u001b[0m: [Errno 2] No such file or directory: './data/ultralytics/images/train/../labels/loc-h500ee07133376/003/197.txt'"
     ]
    }
   ],
   "source": [
    "createLabelsSingle(train, train_path, d)"
   ]
  },
  {
   "cell_type": "code",
   "execution_count": null,
   "metadata": {},
   "outputs": [],
   "source": []
  }
 ],
 "metadata": {
  "interpreter": {
   "hash": "d488aad3bd47f31cc49211d239eea484ef57a3647b66c4c13e8e3612e9e7defd"
  },
  "kernelspec": {
   "display_name": "Python 3.10.1 ('wildsenv')",
   "language": "python",
   "name": "python3"
  },
  "language_info": {
   "codemirror_mode": {
    "name": "ipython",
    "version": 3
   },
   "file_extension": ".py",
   "mimetype": "text/x-python",
   "name": "python",
   "nbconvert_exporter": "python",
   "pygments_lexer": "ipython3",
   "version": "3.10.1"
  },
  "orig_nbformat": 4
 },
 "nbformat": 4,
 "nbformat_minor": 2
}
