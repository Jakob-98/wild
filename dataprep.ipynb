{
 "cells": [
  {
   "cell_type": "code",
   "execution_count": null,
   "metadata": {},
   "outputs": [],
   "source": [
    "# https://github.com/microsoft/CameraTraps/blob/main/data_management/lila/create_lila_test_set.py\n",
    "# https://github.com/cindyweng/coco-to-yolo-by-category/blob/5fcd1ae51af89c1c678d903a4aff5d32cba25b0b/coco-to-yolo-by-category.py#L41"
   ]
  },
  {
   "cell_type": "code",
   "execution_count": 92,
   "metadata": {},
   "outputs": [],
   "source": [
    "import json\n",
    "import random\n",
    "import numpy as np\n",
    "import shutil\n",
    "import os\n",
    "import glob\n",
    "from pathlib import Path\n",
    "import matplotlib.pyplot as plt\n",
    "from operator import itemgetter \n",
    "from itertools import groupby\n",
    "\n",
    "random.seed(42)"
   ]
  },
  {
   "cell_type": "code",
   "execution_count": 93,
   "metadata": {},
   "outputs": [],
   "source": [
    "with open('./data/islands/metadata.json') as f:\n",
    "    d = json.load(f)"
   ]
  },
  {
   "cell_type": "code",
   "execution_count": 94,
   "metadata": {},
   "outputs": [],
   "source": [
    "def gen_dataset(d, n_empty= 1000, n_nempty=1000):\n",
    "    n_empty_images_per_dataset = n_empty\n",
    "    n_non_empty_images_per_dataset = n_nempty\n",
    "\n",
    "    category_id_to_name = {c['id']:c['name'] for c in d['categories']}\n",
    "    category_name_to_id = {c['name']:c['id'] for c in d['categories']}\n",
    "\n",
    "\n",
    "    human_category_id = category_name_to_id['human'] if 'human' in category_name_to_id.keys() else -1 # filter out humans\n",
    "\n",
    "\n",
    "    if 'empty' not in category_name_to_id:\n",
    "        print('Warning: no empty images available for {}'.format('dataset'))\n",
    "        empty_category_id = -1\n",
    "        empty_annotations = []\n",
    "        empty_annotations_to_download = []\n",
    "    else:\n",
    "        empty_category_id = category_name_to_id['empty']        \n",
    "        empty_annotations = [ann for ann in d['annotations'] if ann['category_id'] == empty_category_id]\n",
    "        empty_annotations_to_download = random.sample(empty_annotations, n_empty_images_per_dataset)        \n",
    "        \n",
    "    non_empty_annotations = [ann for ann in d['annotations'] if ann['category_id'] not in (empty_category_id, human_category_id)]\n",
    "\n",
    "    non_empty_annotations_to_download = random.sample(non_empty_annotations, n_non_empty_images_per_dataset)\n",
    "    annotations_to_download = empty_annotations_to_download + non_empty_annotations_to_download\n",
    "    image_ids_to_download = set([ann['image_id'] for ann in annotations_to_download])\n",
    "    assert len(image_ids_to_download) == len(set(image_ids_to_download))\n",
    "\n",
    "    images_to_download = []\n",
    "    for im in d['images']:\n",
    "        if im['id'] in image_ids_to_download:\n",
    "            images_to_download.append(im)\n",
    "    assert len(images_to_download) == len(image_ids_to_download)\n",
    "    \n",
    "    return images_to_download"
   ]
  },
  {
   "cell_type": "code",
   "execution_count": 95,
   "metadata": {},
   "outputs": [],
   "source": [
    "images_to_download = gen_dataset(d, 100, 100)\n",
    "train, validate, test = np.split(images_to_download, [int(.6*len(images_to_download)), int(.8*len(images_to_download))])"
   ]
  },
  {
   "cell_type": "code",
   "execution_count": 154,
   "metadata": {},
   "outputs": [],
   "source": [
    "basepath = './data/islands/images/images/'\n",
    "train_path = './data/ultralytics/images/train/'\n",
    "val_path = './data/ultralytics/images/val/'\n",
    "test_path = './data/ultralytics/images/test/'\n",
    "label_path = './data/ultralytics/labels/'\n",
    "\n",
    "\n",
    "for p in (train_path, val_path, test_path, label_path):\n",
    "    files = glob.glob(p)\n",
    "    for f in glob.glob(p + '\\*', recursive=True):\n",
    "        if f.endswith('.jpg') or  f.endswith('.txt'):\n",
    "            os.remove(f)\n",
    "\n",
    "for im in train: \n",
    "    newfile = shutil.copy2(basepath+im['file_name'], train_path)\n",
    "    newname = os.path.dirname(newfile) + \"/\" + im['file_name'].replace(\"/\", \"-\") # name should match label - multiple 001, 002 files...\n",
    "    os.rename(newfile, newname)\n",
    "for im in validate: \n",
    "    newfile = shutil.copy2(basepath+im['file_name'], val_path)\n",
    "    newname = os.path.dirname(newfile) + \"/\" + im['file_name'].replace(\"/\", \"-\") # name should match label - multiple 001, 002 files...\n",
    "    os.rename(newfile, newname)\n",
    "for im in test: \n",
    "        newfile = shutil.copy2(basepath+im['file_name'], test_path)\n",
    "        newname = os.path.dirname(newfile) + \"/\" + im['file_name'].replace(\"/\", \"-\") # name should match label - multiple 001, 002 files...\n",
    "        os.rename(newfile, newname)"
   ]
  },
  {
   "cell_type": "code",
   "execution_count": 155,
   "metadata": {},
   "outputs": [],
   "source": [
    "\n",
    "def truncate(n, decimals=0):\n",
    "    multiplier = 10 ** decimals\n",
    "    return int(n * multiplier) / multiplier\n",
    "\n",
    "\n",
    "def createLabelsSingle(imageList, basedir, labeldirname, metadata_full):\n",
    "    # For single objects only\n",
    "\n",
    "    ids = [i.get('id') for i in imageList]\n",
    "    # generate lookup for bbox and category id based on image id\n",
    "    lookup = {\n",
    "        m[\"image_id\"]: {\"bbox\": m[\"bbox\"], \"category_id\": m[\"category_id\"]}\n",
    "        for m in metadata_full[\"annotations\"]\n",
    "        if m[\"image_id\"] in ids\n",
    "    }\n",
    "\n",
    "    for im in imageList:\n",
    "\n",
    "        ann = lookup.get(im['id'])\n",
    "\n",
    "        dw = 1. / im['width']\n",
    "        dh = 1. / im['height']\n",
    "        \n",
    "        \n",
    "        filename = im['file_name'].replace(\".jpg\", \".txt\").replace(\"/\", \"-\")\n",
    "        # print(Path(basedir).parent.__str__() + \"/labels/\" + labeldirname + filename, \"a\")\n",
    "        with open(Path(basedir).parent.parent.__str__() + \"/labels/\" + labeldirname + filename, \"a\") as myfile:\n",
    "            xmin = ann[\"bbox\"][0]\n",
    "            ymin = ann[\"bbox\"][1]\n",
    "            xmax = ann[\"bbox\"][2] + ann[\"bbox\"][0]\n",
    "            ymax = ann[\"bbox\"][3] + ann[\"bbox\"][1]\n",
    "            \n",
    "            x = (xmin + xmax)/2\n",
    "            y = (ymin + ymax)/2\n",
    "            \n",
    "            w = xmax - xmin\n",
    "            h = ymax-ymin\n",
    "            \n",
    "            x = x * dw\n",
    "            w = w * dw\n",
    "            y = y * dh\n",
    "            h = h * dh\n",
    "            \n",
    "            mystring = str(str(ann['category_id']) + \" \" + str(truncate(x, 7)) + \" \" + str(truncate(y, 7)) + \" \" + str(truncate(w, 7)) + \" \" + str(truncate(h, 7)))\n",
    "            myfile.write(mystring)\n",
    "            myfile.write(\"\\n\")\n",
    "\n",
    "        myfile.close()"
   ]
  },
  {
   "cell_type": "code",
   "execution_count": 156,
   "metadata": {},
   "outputs": [
    {
     "ename": "AssertionError",
     "evalue": "",
     "output_type": "error",
     "traceback": [
      "\u001b[1;31m---------------------------------------------------------------------------\u001b[0m",
      "\u001b[1;31mAssertionError\u001b[0m                            Traceback (most recent call last)",
      "\u001b[1;32mc:\\Projects\\wild\\dataprep.ipynb Cell 8'\u001b[0m in \u001b[0;36m<cell line: 6>\u001b[1;34m()\u001b[0m\n\u001b[0;32m      <a href='vscode-notebook-cell:/c%3A/Projects/wild/dataprep.ipynb#ch0000020?line=2'>3</a>\u001b[0m createLabelsSingle(test, test_path, \u001b[39m'\u001b[39m\u001b[39mval/\u001b[39m\u001b[39m'\u001b[39m, d)\n\u001b[0;32m      <a href='vscode-notebook-cell:/c%3A/Projects/wild/dataprep.ipynb#ch0000020?line=4'>5</a>\u001b[0m \u001b[39m# # sanity check: \u001b[39;00m\n\u001b[1;32m----> <a href='vscode-notebook-cell:/c%3A/Projects/wild/dataprep.ipynb#ch0000020?line=5'>6</a>\u001b[0m \u001b[39massert\u001b[39;00m((\u001b[39mlen\u001b[39m(train)\u001b[39m+\u001b[39m \u001b[39mlen\u001b[39m(validate) \u001b[39m+\u001b[39m \u001b[39mlen\u001b[39m(test)) \u001b[39m==\u001b[39m \u001b[39mlen\u001b[39m(glob\u001b[39m.\u001b[39mglob(label_path \u001b[39m+\u001b[39m \u001b[39m\"\u001b[39m\u001b[39m/*\u001b[39m\u001b[39m\"\u001b[39m)))\n",
      "\u001b[1;31mAssertionError\u001b[0m: "
     ]
    }
   ],
   "source": [
    "createLabelsSingle(train, train_path, 'train/', d)\n",
    "createLabelsSingle(validate, val_path, 'test/', d)\n",
    "createLabelsSingle(test, test_path, 'val/', d)\n",
    "\n",
    "# # sanity check TODO Fix: \n",
    "# assert((len(train)+ len(validate) + len(test)) == len(glob.glob(label_path + \"/*\")))"
   ]
  },
  {
   "cell_type": "code",
   "execution_count": null,
   "metadata": {},
   "outputs": [],
   "source": [
    "# TODO auto generate YAML\n",
    "# import yaml\n",
    "\n",
    "# data = dict('path' : './data/islands',  # dataset root dir\n",
    "#     'train' : 'images/train2017',  # train images (relative to 'path') 128 images\n",
    "#     'val' : 'images/train2017',  # val images (relative to 'path') 128 images\n",
    "#     A = 'a',\n",
    "#     B = dict(\n",
    "#         C = 'c',\n",
    "#         D = 'd',\n",
    "#         E = 'e',\n",
    "#     )\n",
    "# )\n",
    "\n",
    "\n",
    "# with open('data.yml', 'w') as outfile:\n",
    "#     yaml.dump(data, outfile, default_flow_style=False)"
   ]
  }
 ],
 "metadata": {
  "interpreter": {
   "hash": "d488aad3bd47f31cc49211d239eea484ef57a3647b66c4c13e8e3612e9e7defd"
  },
  "kernelspec": {
   "display_name": "Python 3.10.1 ('wildsenv')",
   "language": "python",
   "name": "python3"
  },
  "language_info": {
   "codemirror_mode": {
    "name": "ipython",
    "version": 3
   },
   "file_extension": ".py",
   "mimetype": "text/x-python",
   "name": "python",
   "nbconvert_exporter": "python",
   "pygments_lexer": "ipython3",
   "version": "3.10.1"
  },
  "orig_nbformat": 4
 },
 "nbformat": 4,
 "nbformat_minor": 2
}
