{
 "cells": [
  {
   "cell_type": "code",
   "execution_count": null,
   "metadata": {},
   "outputs": [],
   "source": [
    "# https://github.com/microsoft/CameraTraps/blob/main/data_management/lila/create_lila_test_set.py"
   ]
  },
  {
   "cell_type": "code",
   "execution_count": null,
   "metadata": {},
   "outputs": [],
   "source": [
    "# auto Yaml generator\n",
    "\n",
    "# import yaml\n",
    "\n",
    "# data = {\n",
    "#     'path' : './data/islands',  # dataset root dir\n",
    "#     'train' : 'images/train2017',  # train images (relative to 'path') 128 images\n",
    "#     'val' : 'images/train2017',  # val images (relative to 'path') 128 images\n",
    "#     A = 'a',\n",
    "#     B = dict(\n",
    "#         C = 'c',\n",
    "#         D = 'd',\n",
    "#         E = 'e',\n",
    "#     )\n",
    "# }\n",
    "\n",
    "# with open('data.yml', 'w') as outfile:\n",
    "#     yaml.dump(data, outfile, default_flow_style=False)"
   ]
  },
  {
   "cell_type": "code",
   "execution_count": 45,
   "metadata": {},
   "outputs": [],
   "source": [
    "import json\n",
    "import random\n",
    "import numpy as np\n",
    "import shutil\n",
    "import os\n",
    "import glob"
   ]
  },
  {
   "cell_type": "code",
   "execution_count": 3,
   "metadata": {},
   "outputs": [],
   "source": [
    "with open('./data/islands/metadata.json') as f:\n",
    "    d = json.load(f)"
   ]
  },
  {
   "cell_type": "code",
   "execution_count": 14,
   "metadata": {},
   "outputs": [],
   "source": [
    "def gen_dataset(d, n_empty= 1000, n_nempty=1000):\n",
    "    n_empty_images_per_dataset = n_empty\n",
    "    n_non_empty_images_per_dataset = n_nempty\n",
    "\n",
    "    category_id_to_name = {c['id']:c['name'] for c in d['categories']}\n",
    "    category_name_to_id = {c['name']:c['id'] for c in d['categories']}\n",
    "\n",
    "\n",
    "    human_category_id = category_name_to_id['human'] if 'human' in category_name_to_id.keys() else -1 # filter out humans\n",
    "\n",
    "\n",
    "    if 'empty' not in category_name_to_id:\n",
    "        print('Warning: no empty images available for {}'.format('dataset'))\n",
    "        empty_category_id = -1\n",
    "        empty_annotations = []\n",
    "        empty_annotations_to_download = []\n",
    "    else:\n",
    "        empty_category_id = category_name_to_id['empty']        \n",
    "        empty_annotations = [ann for ann in d['annotations'] if ann['category_id'] == empty_category_id]\n",
    "        empty_annotations_to_download = random.sample(empty_annotations, n_empty_images_per_dataset)        \n",
    "        \n",
    "    non_empty_annotations = [ann for ann in d['annotations'] if ann['category_id'] not in (empty_category_id, human_category_id)]\n",
    "\n",
    "    non_empty_annotations_to_download = random.sample(non_empty_annotations, n_non_empty_images_per_dataset)\n",
    "    annotations_to_download = empty_annotations_to_download + non_empty_annotations_to_download\n",
    "    image_ids_to_download = set([ann['image_id'] for ann in annotations_to_download])\n",
    "    assert len(image_ids_to_download) == len(set(image_ids_to_download))\n",
    "\n",
    "    images_to_download = []\n",
    "    for im in d['images']:\n",
    "        if im['id'] in image_ids_to_download:\n",
    "            images_to_download.append(im)\n",
    "    assert len(images_to_download) == len(image_ids_to_download)\n",
    "    \n",
    "    return images_to_download"
   ]
  },
  {
   "cell_type": "code",
   "execution_count": 46,
   "metadata": {},
   "outputs": [],
   "source": [
    "images_to_download = gen_dataset(d, 100, 100)\n",
    "train, validate, test = np.split(images_to_download, [int(.6*len(images_to_download)), int(.8*len(images_to_download))])"
   ]
  },
  {
   "cell_type": "code",
   "execution_count": 47,
   "metadata": {},
   "outputs": [
    {
     "data": {
      "text/plain": [
       "120"
      ]
     },
     "execution_count": 47,
     "metadata": {},
     "output_type": "execute_result"
    }
   ],
   "source": [
    "len(train)"
   ]
  },
  {
   "cell_type": "code",
   "execution_count": 43,
   "metadata": {},
   "outputs": [
    {
     "ename": "TypeError",
     "evalue": "list indices must be integers or slices, not str",
     "output_type": "error",
     "traceback": [
      "\u001b[1;31m---------------------------------------------------------------------------\u001b[0m",
      "\u001b[1;31mTypeError\u001b[0m                                 Traceback (most recent call last)",
      "\u001b[1;32mc:\\Projects\\wild\\dataprep.ipynb Cell 9'\u001b[0m in \u001b[0;36m<cell line: 2>\u001b[1;34m()\u001b[0m\n\u001b[0;32m      <a href='vscode-notebook-cell:/c%3A/Projects/wild/dataprep.ipynb#ch0000015?line=0'>1</a>\u001b[0m ids \u001b[39m=\u001b[39m [i\u001b[39m.\u001b[39mget(\u001b[39m'\u001b[39m\u001b[39mid\u001b[39m\u001b[39m'\u001b[39m) \u001b[39mfor\u001b[39;00m i \u001b[39min\u001b[39;00m images_to_download]\n\u001b[1;32m----> <a href='vscode-notebook-cell:/c%3A/Projects/wild/dataprep.ipynb#ch0000015?line=1'>2</a>\u001b[0m [d[\u001b[39m'\u001b[39m\u001b[39mannotations\u001b[39m\u001b[39m'\u001b[39m][\u001b[39mid\u001b[39m] \u001b[39mfor\u001b[39;00m \u001b[39mid\u001b[39m \u001b[39min\u001b[39;00m ids]\n",
      "\u001b[1;32mc:\\Projects\\wild\\dataprep.ipynb Cell 9'\u001b[0m in \u001b[0;36m<listcomp>\u001b[1;34m(.0)\u001b[0m\n\u001b[0;32m      <a href='vscode-notebook-cell:/c%3A/Projects/wild/dataprep.ipynb#ch0000015?line=0'>1</a>\u001b[0m ids \u001b[39m=\u001b[39m [i\u001b[39m.\u001b[39mget(\u001b[39m'\u001b[39m\u001b[39mid\u001b[39m\u001b[39m'\u001b[39m) \u001b[39mfor\u001b[39;00m i \u001b[39min\u001b[39;00m images_to_download]\n\u001b[1;32m----> <a href='vscode-notebook-cell:/c%3A/Projects/wild/dataprep.ipynb#ch0000015?line=1'>2</a>\u001b[0m [d[\u001b[39m'\u001b[39;49m\u001b[39mannotations\u001b[39;49m\u001b[39m'\u001b[39;49m][\u001b[39mid\u001b[39;49m] \u001b[39mfor\u001b[39;00m \u001b[39mid\u001b[39m \u001b[39min\u001b[39;00m ids]\n",
      "\u001b[1;31mTypeError\u001b[0m: list indices must be integers or slices, not str"
     ]
    }
   ],
   "source": [
    "ids = [i.get('id') for i in images_to_download]\n",
    "[d['annotations'] for id in ids if id]"
   ]
  },
  {
   "cell_type": "code",
   "execution_count": 44,
   "metadata": {},
   "outputs": [
    {
     "data": {
      "text/plain": [
       "array([{'id': '986b26ec-2908-4e36-af55-98b77b121937', 'file_name': 'loc-h500ee07133376/000/019.jpg', 'seq_id': '98029aeb-27d4-4213-ab8d-a4c2244bc5aa', 'seq_num_frames': 18, 'frame_num': 13, 'original_relative_path': '2011_09_Set/Station%201/2011/2011-09-13/IMG_0020.JPG', 'location': 'h500ee07133376', 'temperature': '21 c', 'width': 1920, 'height': 1080},\n",
       "       {'id': '1d87e5fc-f5c6-419f-af83-1bed6bc648f6', 'file_name': 'loc-h500ee07133376/000/058.jpg', 'seq_id': '111faf1f-e62d-4350-87db-a8c648699410', 'seq_num_frames': 4, 'frame_num': 1, 'original_relative_path': '2011_09_Set/Station%201/2011/2011-09-13/IMG_0059.JPG', 'location': 'h500ee07133376', 'temperature': '23 c', 'width': 1920, 'height': 1080},\n",
       "       {'id': 'a68f92c2-9cf4-43fd-83ff-99d2ca07f16e', 'file_name': 'loc-h500ee07133376/000/074.jpg', 'seq_id': '2aadcfe6-34bb-4a94-9ab1-94c1aff08467', 'seq_num_frames': 2, 'frame_num': 0, 'original_relative_path': '2011_09_Set/Station%201/2011/2011-09-13/IMG_0075.JPG', 'location': 'h500ee07133376', 'temperature': '23 c', 'width': 1920, 'height': 1080},\n",
       "       ...,\n",
       "       {'id': '8a27defc-e861-4bd0-9bfa-0f4aca536d5b', 'file_name': 'loc-h500hh06211646/010/290.jpg', 'seq_id': 'd852118c-736a-4acf-bb2a-70830b280cd3', 'seq_num_frames': 40, 'frame_num': 10, 'original_relative_path': '2016_02_Set/RECONYX_N/101RECNX/IMG_0142.JPG', 'location': 'h500hh06211646', 'temperature': '21 c', 'width': 2048, 'height': 1536},\n",
       "       {'id': '9258eeba-ab85-4418-996e-31373a0b8cde', 'file_name': 'loc-h500hh06211646/010/294.jpg', 'seq_id': 'd852118c-736a-4acf-bb2a-70830b280cd3', 'seq_num_frames': 40, 'frame_num': 14, 'original_relative_path': '2016_02_Set/RECONYX_N/101RECNX/IMG_0146.JPG', 'location': 'h500hh06211646', 'temperature': '21 c', 'width': 2048, 'height': 1536},\n",
       "       {'id': '0a3c9972-e939-4364-9202-41de23e48c1c', 'file_name': 'loc-h500hh06211646/010/377.jpg', 'seq_id': '256c7a02-e9cf-46c6-9f7f-c2e18e228a5f', 'seq_num_frames': 10, 'frame_num': 7, 'original_relative_path': '2016_02_Set/RECONYX_N/101RECNX/IMG_0229.JPG', 'location': 'h500hh06211646', 'temperature': '21 c', 'width': 2048, 'height': 1536}],\n",
       "      dtype=object)"
      ]
     },
     "execution_count": 44,
     "metadata": {},
     "output_type": "execute_result"
    }
   ],
   "source": [
    "train"
   ]
  },
  {
   "cell_type": "code",
   "execution_count": 50,
   "metadata": {},
   "outputs": [],
   "source": [
    "train_path = './data/ultralytics/images/train/'\n",
    "val_path = './data/ultralytics/images/val/'\n",
    "test_path = './data/ultralytics/images/test/'\n",
    "\n",
    "for p in (train_path, val_path, test_path):\n",
    "    files = glob.glob(p)\n",
    "    for f in files:\n",
    "        os.remove(f)\n",
    "\n",
    "basepath = './data/islands/images/images/'\n",
    "for im in train: \n",
    "    shutil.copy2(basepath+im['file_name'], train_path)\n",
    "for im in validate: \n",
    "    shutil.copy2(basepath+im['file_name'], val_path)\n",
    "for im in test: \n",
    "    shutil.copy2(basepath+im['file_name'], test_path)"
   ]
  },
  {
   "cell_type": "code",
   "execution_count": null,
   "metadata": {},
   "outputs": [],
   "source": [
    "import matplotlib.pyplot as plt\n"
   ]
  },
  {
   "cell_type": "code",
   "execution_count": null,
   "metadata": {},
   "outputs": [],
   "source": [
    "# https://github.com/cocodataset/cocoapi/blob/master/PythonAPI/pycocotools/coco.py\n",
    "def loadAnns(ids=[]):\n",
    "    \"\"\"\n",
    "    Load anns with the specified ids.\n",
    "    :param ids (int array)       : integer ids specifying anns\n",
    "    :return: anns (object array) : loaded ann objects\n",
    "    \"\"\"\n",
    "\n",
    "    return [self.anns[id] for id in ids]\n"
   ]
  }
 ],
 "metadata": {
  "interpreter": {
   "hash": "d488aad3bd47f31cc49211d239eea484ef57a3647b66c4c13e8e3612e9e7defd"
  },
  "kernelspec": {
   "display_name": "Python 3.10.1 ('wildsenv')",
   "language": "python",
   "name": "python3"
  },
  "language_info": {
   "codemirror_mode": {
    "name": "ipython",
    "version": 3
   },
   "file_extension": ".py",
   "mimetype": "text/x-python",
   "name": "python",
   "nbconvert_exporter": "python",
   "pygments_lexer": "ipython3",
   "version": "3.10.1"
  },
  "orig_nbformat": 4
 },
 "nbformat": 4,
 "nbformat_minor": 2
}
