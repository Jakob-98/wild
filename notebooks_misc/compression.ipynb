{
 "cells": [
  {
   "cell_type": "code",
   "execution_count": 2,
   "metadata": {},
   "outputs": [],
   "source": [
    "import cv2\n",
    "import os\n",
    "import glob\n",
    "from PIL import Image\n",
    "from pathlib import Path\n",
    "from matplotlib import pyplot as plt\n",
    "from matplotlib.pyplot import figure\n",
    "import numpy as np\n",
    "import json\n",
    "import mahotas\n",
    "from mahotas.thresholding import soft_threshold\n"
   ]
  },
  {
   "cell_type": "code",
   "execution_count": 3,
   "metadata": {},
   "outputs": [],
   "source": [
    "ena_local = 'C:/temp/ena/images/train50/'\n",
    "save_loc = 'C:/temp/ena/images/gray_train50_wavelet_256/'\n",
    "save_loc_labels = 'C:/temp/ena/labels/gray_train50_wavelet_256/'"
   ]
  },
  {
   "cell_type": "code",
   "execution_count": 5,
   "metadata": {},
   "outputs": [],
   "source": [
    "images = [os.path.split(i)[1] for i in glob.glob(ena_local + '/*.jpg', recursive=True)]"
   ]
  },
  {
   "cell_type": "code",
   "execution_count": 6,
   "metadata": {},
   "outputs": [],
   "source": [
    "\n",
    "metadata_path = 'C:\\Projects\\wild\\data\\ENA24\\ena24_public.json'\n",
    "with open(metadata_path) as f:\n",
    "    d = json.load(f)"
   ]
  },
  {
   "cell_type": "code",
   "execution_count": 7,
   "metadata": {},
   "outputs": [],
   "source": [
    "def letterbox(im, new_shape=(640, 640), color=(114, 114, 114), auto=True, scaleFill=False, scaleup=True, stride=32):\n",
    "    # Resize and pad image while meeting stride-multiple constraints\n",
    "    shape = im.shape[:2]  # current shape [height, width]\n",
    "    if isinstance(new_shape, int):\n",
    "        new_shape = (new_shape, new_shape)\n",
    "\n",
    "    # Scale ratio (new / old)\n",
    "    r = min(new_shape[0] / shape[0], new_shape[1] / shape[1])\n",
    "    if not scaleup:  # only scale down, do not scale up (for better val mAP)\n",
    "        r = min(r, 1.0)\n",
    "\n",
    "    # Compute padding\n",
    "    ratio = r, r  # width, height ratios\n",
    "    new_unpad = int(round(shape[1] * r)), int(round(shape[0] * r))\n",
    "    dw, dh = new_shape[1] - new_unpad[0], new_shape[0] - new_unpad[1]  # wh padding\n",
    "    if auto:  # minimum rectangle\n",
    "        dw, dh = np.mod(dw, stride), np.mod(dh, stride)  # wh padding\n",
    "    elif scaleFill:  # stretch\n",
    "        dw, dh = 0.0, 0.0\n",
    "        new_unpad = (new_shape[1], new_shape[0])\n",
    "        ratio = new_shape[1] / shape[1], new_shape[0] / shape[0]  # width, height ratios\n",
    "\n",
    "    dw /= 2  # divide padding into 2 sides\n",
    "    dh /= 2\n",
    "\n",
    "    if shape[::-1] != new_unpad:  # resize\n",
    "        im = cv2.resize(im, new_unpad, interpolation=cv2.INTER_LINEAR)\n",
    "    top, bottom = int(round(dh - 0.1)), int(round(dh + 0.1))\n",
    "    left, right = int(round(dw - 0.1)), int(round(dw + 0.1))\n",
    "    im = cv2.copyMakeBorder(im, top, bottom, left, right, cv2.BORDER_CONSTANT, value=color)  # add border\n",
    "    return im, ratio, (dw, dh)"
   ]
  },
  {
   "cell_type": "code",
   "execution_count": 8,
   "metadata": {},
   "outputs": [],
   "source": [
    "bboxbyid = {l['image_id']: (l['bbox'], l['category_id']) for l in d['annotations'] if l['image_id'] in [i.split('.jpg')[0] for i in images]}"
   ]
  },
  {
   "cell_type": "code",
   "execution_count": 9,
   "metadata": {},
   "outputs": [],
   "source": [
    "def truncate(n, decimals=0):\n",
    "    multiplier = 10 ** decimals\n",
    "    return int(n * multiplier) / multiplier\n",
    "\n",
    "def saveBbox(im, bbox, cat_id, width, height):\n",
    "    dw = 1. / width\n",
    "    dh = 1. / height\n",
    "    with open(save_loc_labels + im.split('.jpg')[0] + '.txt', \"a\") as myfile:\n",
    "            xmin = bbox[0]\n",
    "            ymin = bbox[1]\n",
    "            xmax = bbox[2] + bbox[0]\n",
    "            ymax = bbox[3] + bbox[1]\n",
    "            \n",
    "            x = (xmin + xmax)/2\n",
    "            y = (ymin + ymax)/2\n",
    "            \n",
    "            w = xmax - xmin\n",
    "            h = ymax-ymin\n",
    "            \n",
    "            x = x * dw\n",
    "            w = w * dw\n",
    "            y = y * dh\n",
    "            h = h * dh\n",
    "            mystring = str(str(cat_id) + \" \" + str(truncate(x, 7)) + \" \" + str(truncate(y, 7)) + \" \" + str(truncate(w, 7)) + \" \" + str(truncate(h, 7)))\n",
    "            myfile.write(mystring)\n",
    "            myfile.write(\"\\n\")\n"
   ]
  },
  {
   "cell_type": "code",
   "execution_count": 11,
   "metadata": {},
   "outputs": [
    {
     "ename": "KeyboardInterrupt",
     "evalue": "",
     "output_type": "error",
     "traceback": [
      "\u001b[1;31m---------------------------------------------------------------------------\u001b[0m",
      "\u001b[1;31mKeyboardInterrupt\u001b[0m                         Traceback (most recent call last)",
      "\u001b[1;32mc:\\Projects\\wild\\notebooks_misc\\compression.ipynb Cell 8'\u001b[0m in \u001b[0;36m<cell line: 4>\u001b[1;34m()\u001b[0m\n\u001b[0;32m      <a href='vscode-notebook-cell:/c%3A/Projects/wild/notebooks_misc/compression.ipynb#ch0000008?line=2'>3</a>\u001b[0m width, height \u001b[39m=\u001b[39m \u001b[39m640\u001b[39m, \u001b[39m640\u001b[39m\n\u001b[0;32m      <a href='vscode-notebook-cell:/c%3A/Projects/wild/notebooks_misc/compression.ipynb#ch0000008?line=3'>4</a>\u001b[0m \u001b[39mfor\u001b[39;00m im \u001b[39min\u001b[39;00m images:\n\u001b[1;32m----> <a href='vscode-notebook-cell:/c%3A/Projects/wild/notebooks_misc/compression.ipynb#ch0000008?line=4'>5</a>\u001b[0m     img \u001b[39m=\u001b[39m cv2\u001b[39m.\u001b[39;49mimread(ena_local \u001b[39m+\u001b[39;49m im)\n\u001b[0;32m      <a href='vscode-notebook-cell:/c%3A/Projects/wild/notebooks_misc/compression.ipynb#ch0000008?line=5'>6</a>\u001b[0m     f \u001b[39m=\u001b[39m cv2\u001b[39m.\u001b[39mcvtColor(img, cv2\u001b[39m.\u001b[39mCOLOR_BGR2GRAY)\n\u001b[0;32m      <a href='vscode-notebook-cell:/c%3A/Projects/wild/notebooks_misc/compression.ipynb#ch0000008?line=6'>7</a>\u001b[0m     reshaped, ratio, pad \u001b[39m=\u001b[39m letterbox(f, (width, height), auto\u001b[39m=\u001b[39m\u001b[39mFalse\u001b[39;00m)\n",
      "\u001b[1;31mKeyboardInterrupt\u001b[0m: "
     ]
    }
   ],
   "source": [
    "# # DO NOT REMOVE/EDIT :\n",
    "# # THIS ONE USED FOR FINAL VER TRAIN100\n",
    "# width, height = 640, 640\n",
    "# for im in images:\n",
    "#     img = cv2.imread(ena_local + im)\n",
    "#     f = cv2.cvtColor(img, cv2.COLOR_BGR2GRAY)\n",
    "#     reshaped, ratio, pad = letterbox(f, (width, height), auto=False)\n",
    "#     # bbox, cat_id = bboxbyid.get(im.split('.jpg')[0])\n",
    "#     # bbox = np.array(bbox) * ratio[0]\n",
    "#     # bbox[1] = bbox[1] + pad[1]\n",
    "#     # if cat_id == 22: #BEAR\n",
    "#     #     cat_id = 8\n",
    "#     # saveBbox(im, bbox, cat_id, width, height)\n",
    "#     t = mahotas.daubechies(reshaped,'D14')\n",
    "#     t /= 10\n",
    "#     t = t.astype(np.int8)\n",
    "#     r = mahotas.idaubechies(t, 'D14')\n",
    "#     r *= 8\n",
    "#     cv2.imwrite(save_loc + im, r, [cv2.IMWRITE_JPEG_QUALITY, 75]) "
   ]
  },
  {
   "cell_type": "code",
   "execution_count": 12,
   "metadata": {},
   "outputs": [],
   "source": [
    "width, height = 256, 256\n",
    "for im in images:\n",
    "    img = cv2.imread(ena_local + im)\n",
    "    f = cv2.cvtColor(img, cv2.COLOR_BGR2GRAY)\n",
    "    reshaped, ratio, pad = letterbox(f, (width, height), auto=False)\n",
    "    bbox, cat_id = bboxbyid.get(im.split('.jpg')[0])\n",
    "    bbox = np.array(bbox) * ratio[0]\n",
    "    bbox[1] = bbox[1] + pad[1]\n",
    "    if cat_id == 22: #BEAR\n",
    "        cat_id = 8\n",
    "    saveBbox(im, bbox, cat_id, width, height)\n",
    "    t = mahotas.daubechies(reshaped,'D14')\n",
    "    t /= 10\n",
    "    t = t.astype(np.int8)\n",
    "    r = mahotas.idaubechies(t, 'D14')\n",
    "    r *= 8\n",
    "    cv2.imwrite(save_loc + im, r, [cv2.IMWRITE_JPEG_QUALITY, 75]) "
   ]
  },
  {
   "cell_type": "code",
   "execution_count": null,
   "metadata": {},
   "outputs": [],
   "source": []
  }
 ],
 "metadata": {
  "kernelspec": {
   "display_name": "wild",
   "language": "python",
   "name": "wild"
  },
  "language_info": {
   "codemirror_mode": {
    "name": "ipython",
    "version": 3
   },
   "file_extension": ".py",
   "mimetype": "text/x-python",
   "name": "python",
   "nbconvert_exporter": "python",
   "pygments_lexer": "ipython3",
   "version": "3.10.1"
  },
  "orig_nbformat": 4
 },
 "nbformat": 4,
 "nbformat_minor": 2
}
